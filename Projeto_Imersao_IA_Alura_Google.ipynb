{
  "nbformat": 4,
  "nbformat_minor": 0,
  "metadata": {
    "colab": {
      "provenance": [],
      "toc_visible": true,
      "authorship_tag": "ABX9TyP0hv2YRzLxcEjtAnUXuuY+",
      "include_colab_link": true
    },
    "kernelspec": {
      "name": "python3",
      "display_name": "Python 3"
    },
    "language_info": {
      "name": "python"
    }
  },
  "cells": [
    {
      "cell_type": "markdown",
      "metadata": {
        "id": "view-in-github",
        "colab_type": "text"
      },
      "source": [
        "<a href=\"https://colab.research.google.com/github/kauefs/alura/blob/%40/Projeto_Imersao_IA_Alura_Google.ipynb\" target=\"_parent\"><img src=\"https://colab.research.google.com/assets/colab-badge.svg\" alt=\"Open In Colab\"/></a>"
      ]
    },
    {
      "cell_type": "markdown",
      "source": [
        "---\n",
        "[![GitHub](  https://img.shields.io/badge/-000000?logo=github&logoColor=FFFFFF)](https://github.com/kauefs/)\n",
        "[![Medium](  https://img.shields.io/badge/-000000?logo=medium&logoColor=FFFFFF)](https://medium.com/@kauefs)\n",
        "[![LinkedIn](https://img.shields.io/badge/-0077B5?logo=linkedin&logoColor=FFFFFF)](https://www.linkedin.com/in/kauefs/)\n",
        "[![Python](  https://img.shields.io/badge/-3-4584B6?logo=python&logoColor=FFDE57&labelColor=4584B6&color=646464)](https://www.python.org/)\n",
        "[![License]( https://img.shields.io/badge/Apache--2.0-D22128?style=flat&logo=apache&logoColor=CB2138&label=License&labelColor=6D6E71&color=D22128)](https://www.apache.org/licenses/LICENSE-2.0)\n",
        "\n",
        "$$10\\ de\\ maio\\ de\\ 2024$$\n",
        "\n",
        "# Projeto para a 2ª Edição da Imersão IA com [Alura](https://www.alura.com.br/) **&** [Google](https://gemini.google.com/)"
      ],
      "metadata": {
        "id": "UBNz8E6XaPfG"
      }
    },
    {
      "cell_type": "markdown",
      "source": [
        "## <ins>Rerranqueamento de Pesquisas na WikipédiA</ins>\n",
        "\n",
        "Projeto inspirado em [exemplo](https://github.com/google-gemini/cookbook/blob/main/examples/Search_reranking_using_embeddings.ipynb) produzido pelo Google, usando a funcionalidade _Embedding_ da Inteligência Artificial **(**IA**)** **Gemini** do Google para rerranquear resultados de busca na WikipédiA.\n",
        "\n",
        "_Embedding_ é uma técnica de Processamento de Linguagem Natural **(**PLN**)** que converte texto em vetores numéricos, capturando significado semântico **&** contexto, de forma que textos com conteúdos semelhantes apresentam _embeddings_ mais próximos, permitindo comparações textuais e o relacionamento entre textos, facilitando busca **&** classificação."
      ],
      "metadata": {
        "id": "0WMS_hjVdIqG"
      }
    },
    {
      "cell_type": "code",
      "execution_count": 1,
      "metadata": {
        "colab": {
          "base_uri": "https://localhost:8080/",
          "height": 238
        },
        "id": "05cNWgqeZ_zh",
        "outputId": "505824c0-3c99-463c-9490-86c39682eb44"
      },
      "outputs": [
        {
          "output_type": "stream",
          "name": "stdout",
          "text": [
            "\n",
            "Modelos Generativos:\n",
            "models/gemini-1.0-pro\n",
            "models/gemini-1.0-pro-001\n",
            "models/gemini-1.0-pro-latest\n",
            "models/gemini-1.0-pro-vision-latest\n",
            "models/gemini-1.5-pro-latest\n",
            "models/gemini-pro\n",
            "models/gemini-pro-vision\n",
            "\n",
            "Modelos de Embedding:\n",
            "models/embedding-001\n",
            "models/text-embedding-004\n"
          ]
        }
      ],
      "source": [
        "# @title Instalação & Configuração\n",
        "# Instalando Pacotes:\n",
        "!pip install wikipedia -q\n",
        "# Importando Bibliotecas:\n",
        "import  json\n",
        "import  textwrap\n",
        "import  wikipedia\n",
        "import  numpy               as   np\n",
        "import  google.generativeai as   genai\n",
        "from    google.colab      import userdata\n",
        "from   IPython.display    import Markdown, display\n",
        "from wikipedia.exceptions import DisambiguationError, PageError\n",
        "# Verificando Chave de Acesso à API:\n",
        "try:\n",
        "    api_key=userdata.get(  'api_key')\n",
        "    genai.configure(api_key=api_key )\n",
        "# Chave não Encontrada:\n",
        "except userdata.SecretNotFoundError as e:\n",
        "    print(f'''Chave-Secreta não encontrada!\\n\\n\n",
        "            Deve-se criar uma chave chamada {api_key} no Colab\\n\\n\n",
        "            Visite https://makersuite.google.com/app/apikey para criar uma chave de acesso à API\\n\\n\n",
        "            Guarde-a na área de segredos no menu lateral esquerdo deste notebook (icone de chave)\\n\\n\n",
        "            Nomeie a chave {api_key}''')\n",
        "    raise e\n",
        "# Chave sem Acesso ao NoteBook:\n",
        "except userdata.NotebookAccessError as e:\n",
        "    print(f'''É necessário dar acesso à chave {api_key} a este NoteBook\n",
        "            para que ele possa acessar o sua conta no Gemini.''')\n",
        "    raise e\n",
        "# Erro Desconhecido:\n",
        "except Exception as e:\n",
        "    print(f'''Erro desconhecido; assegure-se de que a chave {api_key} está armazenada no Colab\n",
        "            e que esteja válida, o que pode ser verificado em https://makersuite.google.com/app/apikey''')\n",
        "    raise e\n",
        "# Em não havendo erros,\n",
        "# segue configuração para retorno das respostas em MarkDown para melhor legibilidade,\n",
        "# bem como listagem dos modelos de IA disponíveis no Gemini:\n",
        "else:\n",
        "    def to_markdown(text):\n",
        "        text = text.replace('•', '  *')\n",
        "        return Markdown(textwrap.indent(text, '> ', predicate=lambda _:True))\n",
        "# Listagem de Modelos Generativos:\n",
        "    print('\\nModelos Generativos:' )\n",
        "    for m in genai.list_models():\n",
        "        if 'generateContent' in m.supported_generation_methods:\n",
        "            print(m.name)\n",
        "# Listagem de Modelos de Embedding:\n",
        "    print('\\nModelos de Embedding:')\n",
        "    for m in genai.list_models():\n",
        "        if 'embedContent'    in m.supported_generation_methods:\n",
        "            print(m.name)"
      ]
    },
    {
      "cell_type": "markdown",
      "source": [
        "### Função de Busca\n",
        "\n",
        "Em atendimento ao mecanismo de busca, a função será estruturada da seguinte forma**:**\n",
        "* Para a busca, será utilizado o método `wikipedia.search` para buscar tópicos relevantes;\n",
        "* A partir desses tópicos, serão escolhidos os top `topics(int)` candidatos de cujas páginas o `gemini-pro` extrairá informações relevantes **(**neste momento, apenas extraindo informação, sem gerar conteúdo**)**;\n",
        "* Histórico de buscas será mantido para evitar duplicidade."
      ],
      "metadata": {
        "id": "627br4eAnz4p"
      }
    },
    {
      "cell_type": "code",
      "source": [
        "# Construindo Função de Busca na WikePédia\n",
        "# para buscar & resumir tópicos relevantes:\n",
        "# https://pypi.org/project/wikipedia/\n",
        "def wikipedia_search(search_queries:list[str])->list[str]:\n",
        "    '''Pesquisa na WikipédiA para cada questão, retornando resumo das páginas relevantes.'''\n",
        "    topics         = 3\n",
        "    search_history =set()                                   # mantendo histórico de buscas\n",
        "    search_urls    =[]\n",
        "    mining_model   =genai.GenerativeModel('gemini-pro')\n",
        "    summary_results=[]\n",
        "    wikipedia.set_lang('pt')                               # definindo idioma da WikipédiA\n",
        "# Termo de Busca:\n",
        "    for query in search_queries:\n",
        "        print(f'Buscando por \"{query}\"')\n",
        "        search_terms = wikipedia.search(query)\n",
        "# Termos Relacionados:\n",
        "        print(f'Termos relacionados: {search_terms[:topics]}')\n",
        "        for    search_term in search_terms[:topics]:        # seleção dos primeiros `n_topics` candidatos\n",
        "            if search_term in search_history: continue      # verifica se o tópico já não foi buscado antes\n",
        "# Retorno do termo buscado:\n",
        "            print(f'Recuperando página: \"{search_term}\"')\n",
        "            search_history.add(search_term)                 # adicionando ao histórico\n",
        "# Usando o Gemini para extrair informação relevante:\n",
        "            try:\n",
        "                page     = wikipedia.page(search_term, auto_suggest=False)\n",
        "                url      = page.url\n",
        "                print(f'Fonte: {url}')\n",
        "                search_urls.append(url)\n",
        "                page     = page.content\n",
        "                response = mining_model.generate_content(textwrap.dedent(f'''\\\n",
        "                            Extraindo informações relevantes sobre a pesquisa: {query}\n",
        "                            Fonte:\n",
        "\n",
        "                            {page}\n",
        "\n",
        "                            Observação: sem resumo, apenas extração de informação relevante.'''))\n",
        "# Verificando Citações Adicionais:\n",
        "                urls = [url]\n",
        "                if response.candidates[0].citation_metadata:\n",
        "                    extra_citations = response.candidates[0].citation_metadata.citation_sources\n",
        "                    extra_urls = [source.url for source in extra_citations]\n",
        "                    urls.extend(extra_urls)\n",
        "                    search_urls.extend(extra_urls)\n",
        "                    print('Citações Adicionais:', response.candidates[0].citation_metadata.citation_sources)\n",
        "                try                   :text = response.text\n",
        "                except ValueError     :pass\n",
        "                else                  :summary_results.append(text + '\\n\\nCom base em:\\n  ' + ',\\n  '.join(urls))\n",
        "# Erro em caso de ambiquidade:\n",
        "            except DisambiguationError:print(f'''Resultados quando procurando por \"{search_term}\"\n",
        "                                        (originados da busca \"{query}\") foram ambíguos, ignorado…''')\n",
        "# Erro em caso de página não encontrada:\n",
        "            except PageError          :print(f'{search_term} não encontrou nenhuma página identificada, ignorando…')\n",
        "# Imprimindo Fontes:\n",
        "    print(f'Fontes:')\n",
        "    for url in search_urls        :print('  ', url)\n",
        "    return summary_results"
      ],
      "metadata": {
        "id": "mx15fVdrnyzs"
      },
      "execution_count": 2,
      "outputs": []
    },
    {
      "cell_type": "code",
      "source": [
        "# Testando o Processo:\n",
        "teste = wikipedia_search(['O que é produto escalar?'])"
      ],
      "metadata": {
        "colab": {
          "base_uri": "https://localhost:8080/",
          "height": 326
        },
        "id": "radh7efyuTwR",
        "outputId": "8ee6f017-b467-4dec-cdaa-f5f354e76635"
      },
      "execution_count": 3,
      "outputs": [
        {
          "output_type": "stream",
          "name": "stdout",
          "text": [
            "Buscando por \"O que é produto escalar?\"\n",
            "Termos relacionados: ['Produto escalar', 'Produto', 'Produto vetorial']\n",
            "Recuperando página: \"Produto escalar\"\n",
            "Fonte: https://pt.wikipedia.org/wiki/Produto_escalar\n",
            "Recuperando página: \"Produto\"\n"
          ]
        },
        {
          "output_type": "stream",
          "name": "stderr",
          "text": [
            "/usr/local/lib/python3.10/dist-packages/wikipedia/wikipedia.py:389: GuessedAtParserWarning: No parser was explicitly specified, so I'm using the best available HTML parser for this system (\"lxml\"). This usually isn't a problem, but if you run this code on another system, or in a different virtual environment, it may use a different parser and behave differently.\n",
            "\n",
            "The code that caused this warning is on line 389 of the file /usr/local/lib/python3.10/dist-packages/wikipedia/wikipedia.py. To get rid of this warning, pass the additional argument 'features=\"lxml\"' to the BeautifulSoup constructor.\n",
            "\n",
            "  lis = BeautifulSoup(html).find_all('li')\n"
          ]
        },
        {
          "output_type": "stream",
          "name": "stdout",
          "text": [
            "Resultados quando procurando por \"Produto\"\n",
            "                                        (originados da busca \"O que é produto escalar?\") foram ambíguos, ignorado…\n",
            "Recuperando página: \"Produto vetorial\"\n",
            "Fonte: https://pt.wikipedia.org/wiki/Produto_vetorial\n",
            "Fontes:\n",
            "   https://pt.wikipedia.org/wiki/Produto_escalar\n",
            "   https://pt.wikipedia.org/wiki/Produto_vetorial\n"
          ]
        }
      ]
    },
    {
      "cell_type": "code",
      "source": [
        "# Resultado da Busca:\n",
        "for t in teste: display(to_markdown(t))"
      ],
      "metadata": {
        "colab": {
          "base_uri": "https://localhost:8080/",
          "height": 659
        },
        "id": "r6xDdyEevd95",
        "outputId": "c18c08fb-14e3-4f67-f2da-157152930071"
      },
      "execution_count": 4,
      "outputs": [
        {
          "output_type": "display_data",
          "data": {
            "text/plain": [
              "<IPython.core.display.Markdown object>"
            ],
            "text/markdown": "> **Definição de produto escalar:**\n> \n> * Operação entre dois vetores que resulta em um número escalar (real).\n> * Em álgebra linear, é o produto interno padrão do espaço euclidiano.\n> \n> **Interpretação geométrica:**\n> \n> * Produto das magnitudes euclidianas dos vetores e o cosseno do ângulo entre eles.\n> * Dá a projeção escalar de um vetor na direção de outro.\n> \n> **Interpretação algébrica:**\n> \n> * Soma dos produtos dos componentes correspondentes dos vetores.\n> \n> **Propriedades:**\n> \n> * Comutativa: A ⋅ B = B ⋅ A\n> * Distributiva em relação à soma vetorial: A ⋅ (B + C) = A ⋅ B + A ⋅ C\n> * Multiplicação por escalar: (n1A) ⋅ (n2B) = (n1n2)(A ⋅ B)\n> * Soma de quadrados: Aᵀ ⋅ A = a1² + a2² + ... + an²\n> \n> Com base em:\n>   https://pt.wikipedia.org/wiki/Produto_escalar"
          },
          "metadata": {}
        },
        {
          "output_type": "display_data",
          "data": {
            "text/plain": [
              "<IPython.core.display.Markdown object>"
            ],
            "text/markdown": "> **Produto Vetorial**\n> \n> **Definição:**\n> \n> * Operação binária entre dois vetores tridimensionais a e b, denotada por a × b.\n> * Resulta em um vetor perpendicular a a e b, com magnitude igual à área do paralelogramo formado pelos vetores.\n> \n> **Propriedades:**\n> \n> * Anticomutativo: a × b = -b × a\n> * Distributivo sobre a adição: a × (b + c) = a × b + a × c\n> * Compatível com multiplicação escalar: (ra) × b = a × (rb) = r(a × b)\n> * Não associativo, mas satisfaz a identidade de Jacobi: a × (b × c) + b × (c × a) + c × (a × b) = 0\n> \n> **Aplicações:**\n> \n> * Fórmula do operador rotacional\n> * Descrição da força de Lorentz\n> * Definição de torque e momento angular\n> * Cálculo de normais de polígonos para computação gráfica\n> \n> Com base em:\n>   https://pt.wikipedia.org/wiki/Produto_vetorial"
          },
          "metadata": {}
        }
      ]
    },
    {
      "cell_type": "code",
      "source": [
        "# @title Configuração do Modelo Generativo\n",
        "model_name        =  'gemini-pro'\n",
        "generation_config = {'candidate_count'  :1,\n",
        "                     'temperature'      :.65,\n",
        "                     'top_p'            :.95,\n",
        "                     'top_k'            :3,\n",
        "                     'stop_sequences'   :None,\n",
        "                     'max_output_tokens':1024}\n",
        "safety_settings   = {'HATE'      : 'BLOCK_NONE',\n",
        "                     'HARASSMENT': 'BLOCK_NONE',\n",
        "                     'SEXUAL'    : 'BLOCK_NONE',\n",
        "                     'DANGEROUS' : 'BLOCK_NONE'}"
      ],
      "metadata": {
        "id": "e7jJjKbJxDRJ"
      },
      "execution_count": 5,
      "outputs": []
    },
    {
      "cell_type": "markdown",
      "source": [
        "Ao se passar uma função como argumento à ferramentas do modelo generativo, ele extrai um esquema da função para passar ao chamados da API, podendo retornar a chamar a função, mantendo para si uma referência à função para poder executá-la localmente mais tarde.\n",
        "\n",
        "Observação**:** nesse caso, são permitidos apenas dados do tipo `int | float | str | dict` ou lista que contenha apenas esses tipos de dados permitidos."
      ],
      "metadata": {
        "id": "eSt--EijyMOW"
      }
    },
    {
      "cell_type": "code",
      "source": [
        "# Passando a Função de Busca para o Modelo Generativo:\n",
        "model             = genai.GenerativeModel(model_name       =     model_name,\n",
        "                                          generation_config=generation_config,\n",
        "                                          safety_settings  =    safety_settings,\n",
        "                                          tools            =[wikipedia_search])"
      ],
      "metadata": {
        "id": "r4g4wO0TyMsO"
      },
      "execution_count": 6,
      "outputs": []
    },
    {
      "cell_type": "code",
      "source": [
        "# @title Buscas Suplementares\n",
        "# Suporte à busca original do usuário para cobrir a pesquisa de forma mais compreensiva.\n",
        "# Passando Instruções ao Modelo:\n",
        "instructions      = '''\n",
        "Acesso a API da WikipédiA para responder buscas.\n",
        "Gerar lista de possíveis resultados que possam responder a buscas.\n",
        "Seja criativo usando frases chave da busca.\n",
        "Gerar variedade de resultados fazendo perguntas relacionadas à busca para encontrar a melhor resposta.\n",
        "Quanto mais perguntas gerar, melhores as changes de encontrar a resposta correta.\n",
        "\n",
        "Exemplo:\n",
        "\n",
        "user: Fale-me sobre os vencedores da Copa do Mundo de 2022.\n",
        "\n",
        "function_call: wikipedia_search(['Qual time ganhou a Copa do Mundo de 2022?',\n",
        "'Quem era o capitaão do time que ganhou a Copa do Mundo de 2022?',\n",
        "'Que país sediou a Copa do Mundo de 2022?',\n",
        "'Em qual estádio aconteceu o jogo da final da Copa do Mundo de 2022?',\n",
        "'Copa do Mundo de 2022','Quem levantou o troféu da Copa do Mundo de 2022?'])\n",
        "\n",
        "Use a lista de resumo de artigos retornada pela função de busca para responder à busca.\n",
        "\n",
        "Aqui está a busca do usuário: {query}\n",
        "                    '''"
      ],
      "metadata": {
        "id": "Vryk8yEK0U2M"
      },
      "execution_count": 7,
      "outputs": []
    },
    {
      "cell_type": "code",
      "source": [
        "# @title Chamando a Função Automaticamente\n",
        "# A sessão de chat do modelo generativo \"conversará\" com a função\n",
        "# até retornar o resposta final ao usuário:\n",
        "chat  =  model.start_chat(enable_automatic_function_calling=True)\n",
        "query = 'Explique como os dinossauros desapareceram.'\n",
        "res   =  chat.send_message(instructions.format(query=query))"
      ],
      "metadata": {
        "colab": {
          "base_uri": "https://localhost:8080/",
          "height": 527
        },
        "id": "H_ulsxlv5GK-",
        "outputId": "361cb3af-56d2-4cb3-b76b-1ef79022c161"
      },
      "execution_count": 8,
      "outputs": [
        {
          "output_type": "stream",
          "name": "stdout",
          "text": [
            "Buscando por \"Como os dinossauros desapareceram?\"\n",
            "Termos relacionados: ['Esturjão-branco', 'Triássico', 'Therapsida']\n",
            "Recuperando página: \"Esturjão-branco\"\n",
            "Fonte: https://pt.wikipedia.org/wiki/Esturj%C3%A3o-branco\n",
            "Recuperando página: \"Triássico\"\n",
            "Fonte: https://pt.wikipedia.org/wiki/Tri%C3%A1ssico\n",
            "Recuperando página: \"Therapsida\"\n",
            "Fonte: https://pt.wikipedia.org/wiki/Therapsida\n",
            "Buscando por \"Qual a teoria mais aceita sobre a extinção dos dinossauros?\"\n",
            "Termos relacionados: ['Extinção do Cretáceo-Paleogeno', 'Dinossauros', 'Extinção']\n",
            "Recuperando página: \"Extinção do Cretáceo-Paleogeno\"\n",
            "Fonte: https://pt.wikipedia.org/wiki/Extin%C3%A7%C3%A3o_do_Cret%C3%A1ceo-Paleogeno\n",
            "Recuperando página: \"Dinossauros\"\n",
            "Fonte: https://pt.wikipedia.org/wiki/Dinossauros\n",
            "Recuperando página: \"Extinção\"\n",
            "Fonte: https://pt.wikipedia.org/wiki/Extin%C3%A7%C3%A3o\n",
            "Buscando por \"O que causou a extinção dos dinossauros?\"\n",
            "Termos relacionados: ['Dinossauros', 'Extinção do Cretáceo-Paleogeno', 'Triássico']\n",
            "Buscando por \"Quando os dinossauros foram extintos?\"\n",
            "Termos relacionados: ['Dinossauros', 'Extinção', 'Jurassic Park']\n",
            "Recuperando página: \"Jurassic Park\"\n",
            "Fonte: https://pt.wikipedia.org/wiki/Jurassic_Park\n",
            "Fontes:\n",
            "   https://pt.wikipedia.org/wiki/Esturj%C3%A3o-branco\n",
            "   https://pt.wikipedia.org/wiki/Tri%C3%A1ssico\n",
            "   https://pt.wikipedia.org/wiki/Therapsida\n",
            "   https://pt.wikipedia.org/wiki/Extin%C3%A7%C3%A3o_do_Cret%C3%A1ceo-Paleogeno\n",
            "   https://pt.wikipedia.org/wiki/Dinossauros\n",
            "   https://pt.wikipedia.org/wiki/Extin%C3%A7%C3%A3o\n",
            "   https://pt.wikipedia.org/wiki/Jurassic_Park\n"
          ]
        }
      ]
    },
    {
      "cell_type": "code",
      "source": [
        "# Resposta Final Formatada:\n",
        "to_markdown(res.text)"
      ],
      "metadata": {
        "colab": {
          "base_uri": "https://localhost:8080/",
          "height": 96
        },
        "id": "kqtUvekM95gc",
        "outputId": "e832f9ef-cb0b-4eba-861d-1c647efa1c83"
      },
      "execution_count": 9,
      "outputs": [
        {
          "output_type": "execute_result",
          "data": {
            "text/plain": [
              "<IPython.core.display.Markdown object>"
            ],
            "text/markdown": "> Os dinossauros desapareceram há cerca de 66 milhões de anos. A teoria mais aceita sobre sua extinção é a de que um asteroide ou cometa gigante colidiu com a Terra, causando mudanças climáticas e ambientais desastrosas. Isso levou à extinção de cerca de 75% das espécies da Terra, incluindo todos os dinossauros não aviários."
          },
          "metadata": {},
          "execution_count": 9
        }
      ]
    },
    {
      "cell_type": "code",
      "source": [
        "# Verificando Citações Adicionais:\n",
        "res.candidates[0].citation_metadata or 'Nenhuma citação adicional encontrada.'"
      ],
      "metadata": {
        "colab": {
          "base_uri": "https://localhost:8080/",
          "height": 35
        },
        "id": "e3TWuO06-FPz",
        "outputId": "cc5501e0-f1cc-4ba6-c324-afa196ed4174"
      },
      "execution_count": 10,
      "outputs": [
        {
          "output_type": "execute_result",
          "data": {
            "text/plain": [
              "'Nenhuma citação adicional encontrada.'"
            ],
            "application/vnd.google.colaboratory.intrinsic+json": {
              "type": "string"
            }
          },
          "metadata": {},
          "execution_count": 10
        }
      ]
    },
    {
      "cell_type": "code",
      "source": [
        "# @title Verificando Passos no Histórico de Conversa\n",
        "# Verificando  as trocas entre a Função e a API\n",
        "# no histórico do chat:\n",
        "for content in chat.history:\n",
        "    part = content.parts[0]\n",
        "    print(f'{content.role} -> ', end='')\n",
        "    print(json.dumps(type(part).to_dict(part), indent=2))\n",
        "    print('---' * 20)"
      ],
      "metadata": {
        "colab": {
          "base_uri": "https://localhost:8080/"
        },
        "id": "kETajUAt-RH6",
        "outputId": "7d7674e9-1077-4300-c5ca-50e434d39488"
      },
      "execution_count": 11,
      "outputs": [
        {
          "output_type": "stream",
          "name": "stdout",
          "text": [
            "user -> {\n",
            "  \"text\": \"\\nAcesso a API da Wikip\\u00e9diA para responder buscas.\\nGerar lista de poss\\u00edveis resultados que possam responder a buscas.\\nSeja criativo usando frases chave da busca.\\nGerar variedade de resultados fazendo perguntas relacionadas \\u00e0 busca para encontrar a melhor resposta.\\nQuanto mais perguntas gerar, melhores as changes de encontrar a resposta correta.\\n\\nExemplo: \\n\\nuser: Fale-me sobre os vencedores da Copa do Mundo de 2022.\\n\\nfunction_call: wikipedia_search(['Qual time ganhou a Copa do Mundo de 2022?',\\n'Quem era o capita\\u00e3o do time que ganhou a Copa do Mundo de 2022?',\\n'Que pa\\u00eds sediou a Copa do Mundo de 2022?',\\n'Em qual est\\u00e1dio aconteceu o jogo da final da Copa do Mundo de 2022?',\\n'Copa do Mundo de 2022','Quem levantou o trof\\u00e9u da Copa do Mundo de 2022?'])\\n\\nUse a lista de resumo de artigos retornada pela fun\\u00e7\\u00e3o de busca para responder \\u00e0 busca.\\n\\nAqui est\\u00e1 a busca do usu\\u00e1rio: Explique como os dinossauros desapareceram.\\n                    \"\n",
            "}\n",
            "------------------------------------------------------------\n",
            "model -> {\n",
            "  \"function_call\": {\n",
            "    \"name\": \"wikipedia_search\",\n",
            "    \"args\": {\n",
            "      \"search_queries\": [\n",
            "        \"Como os dinossauros desapareceram?\",\n",
            "        \"Qual a teoria mais aceita sobre a extin\\u00e7\\u00e3o dos dinossauros?\",\n",
            "        \"O que causou a extin\\u00e7\\u00e3o dos dinossauros?\",\n",
            "        \"Quando os dinossauros foram extintos?\"\n",
            "      ]\n",
            "    }\n",
            "  }\n",
            "}\n",
            "------------------------------------------------------------\n",
            "user -> {\n",
            "  \"function_response\": {\n",
            "    \"name\": \"wikipedia_search\",\n",
            "    \"response\": {\n",
            "      \"result\": [\n",
            "        \"- O esturj\\u00e3o existe desde a \\u00e9poca em que os dinossauros desapareceram.\\n\\nCom base em:\\n  https://pt.wikipedia.org/wiki/Esturj%C3%A3o-branco\",\n",
            "        \"**Como os Dinossauros Desapareceram**\\n\\n* O Tri\\u00e1ssico terminou com uma extin\\u00e7\\u00e3o em massa, especialmente grave nos oceanos.\\n* 22% das fam\\u00edlias marinhas e cerca de metade dos g\\u00eaneros marinhos desapareceram.\\n* Nos ecossistemas terrestres, v\\u00e1rios clados importantes de Crurotarsis desapareceram, assim como grandes anf\\u00edbios Labirintodonte e alguns sinaps\\u00eddeos.\\n* Algumas das causas poss\\u00edveis para a extin\\u00e7\\u00e3o incluem:\\n    * Enormes erup\\u00e7\\u00f5es vulc\\u00e2nicas que formaram o Centro Atl\\u00e2ntico Magm\\u00e1tico (CAMP)\\n    * Resfriamento global\\n    * Impacto de um b\\u00f3lido (cratera Manicouagan)\\n\\nApesar de n\\u00e3o haver certeza sobre a causa exata da extin\\u00e7\\u00e3o, as extin\\u00e7\\u00f5es permitiram que os dinossauros se expandissem para muitos nichos desocupados, tornando-se dominantes nos per\\u00edodos Jur\\u00e1ssico e Cret\\u00e1ceo.\\n\\nCom base em:\\n  https://pt.wikipedia.org/wiki/Tri%C3%A1ssico\",\n",
            "        \"**Informa\\u00e7\\u00f5es Relevantes para a Pesquisa**\\n\\nO texto fornecido n\\u00e3o cont\\u00e9m informa\\u00e7\\u00f5es sobre a extin\\u00e7\\u00e3o dos dinossauros.\\n\\nCom base em:\\n  https://pt.wikipedia.org/wiki/Therapsida\",\n",
            "        \"A teoria mais aceita sobre a extin\\u00e7\\u00e3o dos dinossauros \\u00e9 o impacto de um asteroide com a Terra, que ocorreu h\\u00e1 65,5 milh\\u00f5es de anos.\\n\\nCom base em:\\n  https://pt.wikipedia.org/wiki/Extin%C3%A7%C3%A3o_do_Cret%C3%A1ceo-Paleogeno\",\n",
            "        \"A teoria mais aceita sobre a extin\\u00e7\\u00e3o dos dinossauros \\u00e9 a hip\\u00f3tese do impacto de meteorito. De acordo com esta teoria, um grande meteorito ou cometa colidiu com a Terra no final do per\\u00edodo Cret\\u00e1ceo, h\\u00e1 cerca de 66 milh\\u00f5es de anos, criando a cratera de Chicxulub, na pen\\u00ednsula de Iucat\\u00e3. O impacto teria causado uma s\\u00e9rie de eventos catastr\\u00f3ficos, incluindo terremotos, tsunamis e inc\\u00eandios florestais globais. A poeira e os detritos expelidos para a atmosfera tamb\\u00e9m teriam bloqueado a luz solar, causando um inverno global que durou anos. Esta combina\\u00e7\\u00e3o de eventos provavelmente levou \\u00e0 extin\\u00e7\\u00e3o em massa de 76% de todas as esp\\u00e9cies de plantas e animais da Terra, incluindo todos os dinossauros n\\u00e3o avi\\u00e1rios.\\n\\nCom base em:\\n  https://pt.wikipedia.org/wiki/Dinossauros\",\n",
            "        \"A teoria mais aceita sobre a extin\\u00e7\\u00e3o dos dinossauros \\u00e9 a hip\\u00f3tese de impacto de um grande asteroide ou cometa, que teria causado mudan\\u00e7as clim\\u00e1ticas e ambientais desastrosas, levando \\u00e0 extin\\u00e7\\u00e3o de cerca de 75% das esp\\u00e9cies da Terra, incluindo os dinossauros n\\u00e3o avi\\u00e1rios.\\n\\nCom base em:\\n  https://pt.wikipedia.org/wiki/Extin%C3%A7%C3%A3o\",\n",
            "        \"Infelizmente, este texto n\\u00e3o cont\\u00e9m informa\\u00e7\\u00f5es sobre quando os dinossauros foram extintos.\\n\\nCom base em:\\n  https://pt.wikipedia.org/wiki/Jurassic_Park\"\n",
            "      ]\n",
            "    }\n",
            "  }\n",
            "}\n",
            "------------------------------------------------------------\n",
            "model -> {\n",
            "  \"text\": \"Os dinossauros desapareceram h\\u00e1 cerca de 66 milh\\u00f5es de anos. A teoria mais aceita sobre sua extin\\u00e7\\u00e3o \\u00e9 a de que um asteroide ou cometa gigante colidiu com a Terra, causando mudan\\u00e7as clim\\u00e1ticas e ambientais desastrosas. Isso levou \\u00e0 extin\\u00e7\\u00e3o de cerca de 75% das esp\\u00e9cies da Terra, incluindo todos os dinossauros n\\u00e3o avi\\u00e1rios.\"\n",
            "}\n",
            "------------------------------------------------------------\n"
          ]
        }
      ]
    },
    {
      "cell_type": "markdown",
      "source": [
        "Pelo histórico do chat, é possível verificar os quatro passos de interação entre a função de busca e a API do Gemini**:**\n",
        "1. Envio da pergunta do usuário;\n",
        "2. Modelo responde chamando a função, adicionando perguntas relevantes;\n",
        "3. Como a função está ativa para ser chamada automaticamente, ela é executada novamente, retornando lista de artigos ao modelo;\n",
        "4. Seguindo as instruções de prompt, o modelo gera a resposta final com base nos artigos encontrados."
      ],
      "metadata": {
        "id": "f7HIonPp_hfk"
      }
    },
    {
      "cell_type": "code",
      "source": [
        "# @title Execução Manual da Função\n",
        "# Apenas para Aprofundamento do Tema:\n",
        "import     google.ai.generativelanguage as glm     # para código de baixo nível\n",
        "chat   =       model.start_chat()\n",
        "result =        chat.send_message(instructions.format(query=query))\n",
        "# Passo 1: Inicialmente o modelo retorna uma FunctionCall:\n",
        "fc     =      result.candidates[0].content.parts[0].function_call\n",
        "fc     =    type(fc).to_dict(fc)\n",
        "print(json.dumps(fc , indent=2))"
      ],
      "metadata": {
        "colab": {
          "base_uri": "https://localhost:8080/",
          "height": 221
        },
        "id": "D7qUA4N4YD4F",
        "outputId": "bcf70e56-b734-4713-9524-e0c6cc35edfe"
      },
      "execution_count": 12,
      "outputs": [
        {
          "output_type": "stream",
          "name": "stdout",
          "text": [
            "{\n",
            "  \"name\": \"wikipedia_search\",\n",
            "  \"args\": {\n",
            "    \"search_queries\": [\n",
            "      \"Como os dinossauros desapareceram?\",\n",
            "      \"Qual \\u00e9 a teoria mais aceita sobre a extin\\u00e7\\u00e3o dos dinossauros?\",\n",
            "      \"O que causou a extin\\u00e7\\u00e3o dos dinossauros?\",\n",
            "      \"Qual foi o impacto da extin\\u00e7\\u00e3o dos dinossauros na Terra?\",\n",
            "      \"Quais s\\u00e3o as evid\\u00eancias que apoiam a teoria do impacto de um asteroide?\"\n",
            "    ]\n",
            "  }\n",
            "}\n"
          ]
        }
      ]
    },
    {
      "cell_type": "code",
      "source": [
        "# Mostrando o Nome da Função:\n",
        "fc['name']"
      ],
      "metadata": {
        "colab": {
          "base_uri": "https://localhost:8080/",
          "height": 35
        },
        "id": "lzUM5U8iZOKS",
        "outputId": "268cab99-a255-4a34-f2b8-9a1a8057bc08"
      },
      "execution_count": 13,
      "outputs": [
        {
          "output_type": "execute_result",
          "data": {
            "text/plain": [
              "'wikipedia_search'"
            ],
            "application/vnd.google.colaboratory.intrinsic+json": {
              "type": "string"
            }
          },
          "metadata": {},
          "execution_count": 13
        }
      ]
    },
    {
      "cell_type": "code",
      "source": [
        "# Passo 2: Chamando a Função com Argumentos Generativos:\n",
        "summaries = wikipedia_search(**fc['args'])"
      ],
      "metadata": {
        "colab": {
          "base_uri": "https://localhost:8080/",
          "height": 734
        },
        "id": "jEar45G8ZXw0",
        "outputId": "826d1444-0dd7-445b-b36b-3137ea49c6ec"
      },
      "execution_count": 14,
      "outputs": [
        {
          "output_type": "stream",
          "name": "stdout",
          "text": [
            "Buscando por \"Como os dinossauros desapareceram?\"\n",
            "Termos relacionados: ['Esturjão-branco', 'Triássico', 'Therapsida']\n",
            "Recuperando página: \"Esturjão-branco\"\n",
            "Fonte: https://pt.wikipedia.org/wiki/Esturj%C3%A3o-branco\n",
            "Recuperando página: \"Triássico\"\n",
            "Fonte: https://pt.wikipedia.org/wiki/Tri%C3%A1ssico\n",
            "Recuperando página: \"Therapsida\"\n",
            "Fonte: https://pt.wikipedia.org/wiki/Therapsida\n",
            "Buscando por \"Qual é a teoria mais aceita sobre a extinção dos dinossauros?\"\n",
            "Termos relacionados: ['Dinossauros', 'Extinção do Cretáceo-Paleogeno', 'Extinção']\n",
            "Recuperando página: \"Dinossauros\"\n",
            "Fonte: https://pt.wikipedia.org/wiki/Dinossauros\n",
            "Recuperando página: \"Extinção do Cretáceo-Paleogeno\"\n",
            "Fonte: https://pt.wikipedia.org/wiki/Extin%C3%A7%C3%A3o_do_Cret%C3%A1ceo-Paleogeno\n",
            "Recuperando página: \"Extinção\"\n",
            "Fonte: https://pt.wikipedia.org/wiki/Extin%C3%A7%C3%A3o\n",
            "Buscando por \"O que causou a extinção dos dinossauros?\"\n",
            "Termos relacionados: ['Dinossauros', 'Extinção do Cretáceo-Paleogeno', 'Triássico']\n",
            "Buscando por \"Qual foi o impacto da extinção dos dinossauros na Terra?\"\n",
            "Termos relacionados: ['História da Terra', 'Cratera de Chicxulub', 'Extinção do Cretáceo-Paleogeno']\n",
            "Recuperando página: \"História da Terra\"\n",
            "Fonte: https://pt.wikipedia.org/wiki/Hist%C3%B3ria_da_Terra\n",
            "Recuperando página: \"Cratera de Chicxulub\"\n",
            "Fonte: https://pt.wikipedia.org/wiki/Cratera_de_Chicxulub\n",
            "Buscando por \"Quais são as evidências que apoiam a teoria do impacto de um asteroide?\"\n",
            "Termos relacionados: ['Evento de impacto', 'Dinossauros', 'Extinção em massa do Holoceno']\n",
            "Recuperando página: \"Evento de impacto\"\n",
            "Fonte: https://pt.wikipedia.org/wiki/Evento_de_impacto\n",
            "Recuperando página: \"Extinção em massa do Holoceno\"\n",
            "Fonte: https://pt.wikipedia.org/wiki/Extin%C3%A7%C3%A3o_em_massa_do_Holoceno\n",
            "Fontes:\n",
            "   https://pt.wikipedia.org/wiki/Esturj%C3%A3o-branco\n",
            "   https://pt.wikipedia.org/wiki/Tri%C3%A1ssico\n",
            "   https://pt.wikipedia.org/wiki/Therapsida\n",
            "   https://pt.wikipedia.org/wiki/Dinossauros\n",
            "   https://pt.wikipedia.org/wiki/Extin%C3%A7%C3%A3o_do_Cret%C3%A1ceo-Paleogeno\n",
            "   https://pt.wikipedia.org/wiki/Extin%C3%A7%C3%A3o\n",
            "   https://pt.wikipedia.org/wiki/Hist%C3%B3ria_da_Terra\n",
            "   https://pt.wikipedia.org/wiki/Cratera_de_Chicxulub\n",
            "   https://pt.wikipedia.org/wiki/Evento_de_impacto\n",
            "   https://pt.wikipedia.org/wiki/Extin%C3%A7%C3%A3o_em_massa_do_Holoceno\n"
          ]
        }
      ]
    },
    {
      "cell_type": "code",
      "source": [
        "# Passo 3: Enviando a Resposta ao Modelo:\n",
        "response = chat.send_message(\n",
        "    glm.Content(\n",
        "        parts=[glm.Part(\n",
        "            function_response = glm.FunctionResponse(\n",
        "                name='wikipedia_search', response={'result':summaries}\n",
        "                )\n",
        "            )\n",
        "        ]\n",
        "    )\n",
        ")\n",
        "# Passo 4: Gerando Resposta Final:\n",
        "to_markdown(response.text)"
      ],
      "metadata": {
        "colab": {
          "base_uri": "https://localhost:8080/",
          "height": 130
        },
        "id": "P56TslGUZmnw",
        "outputId": "ade836c7-c46f-4518-ea61-b5f7f84e42a9"
      },
      "execution_count": 15,
      "outputs": [
        {
          "output_type": "execute_result",
          "data": {
            "text/plain": [
              "<IPython.core.display.Markdown object>"
            ],
            "text/markdown": "> Os dinossauros foram extintos há cerca de 66 milhões de anos, possivelmente devido ao impacto de um asteroide ou cometa na Terra. O impacto teria causado um inverno prolongado, bloqueando a luz solar e prejudicando a fotossíntese. A poeira e as partículas na atmosfera também teriam causado mudanças climáticas significativas, levando a um resfriamento da superfície da Terra. A interrupção da fotossíntese afetou toda a cadeia alimentar, contribuindo para a extinção dos dinossauros e de muitos outros organismos."
          },
          "metadata": {},
          "execution_count": 15
        }
      ]
    },
    {
      "cell_type": "markdown",
      "source": [
        "### Rerranqueamento dos Resultados da Busca\n",
        "\n",
        "De forma a encontrar o resultado mais relevante obtido usando a API da WikipédiA, usar**-**se**-**á a API do Gemini para vetorizar **(**_Embedding_**)** os resultados das buscas a fim de calcular pontuação de similaridade **(**usando similaridade de cossenos ou produto escalar**)** entre os vetores **(**textos**)**, de forma a determinar o vetor mais relevante para responder ao usuário."
      ],
      "metadata": {
        "id": "sIWSok1Dc5pU"
      }
    },
    {
      "cell_type": "code",
      "source": [
        "# @title Função Embedding\n",
        "def get_embeddings(content:list[str])->np.ndarray:\n",
        "    embeddings = genai.embed_content('models/embedding-001', content, 'SEMANTIC_SIMILARITY')\n",
        "    embds      = embeddings.get('embedding', None)\n",
        "    embds      = np.array(embds).reshape(len(embds),-1)\n",
        "    return embds\n",
        "# Função Produto Escalar:\n",
        "def dot_product(a:np.ndarray,  b:np.ndarray):\n",
        "    return (a @ b.T)\n",
        "# Aplicando a Função Embedding:\n",
        "search_res     = get_embeddings(summaries)\n",
        "embedded_query = get_embeddings([query])\n",
        "# Calculando Pontuação de Similaridade:\n",
        "sim_value      = dot_product(search_res, embedded_query)\n",
        "# Seleção do Melhor Candidato - np.argmax:\n",
        "print(summaries[np.argmax(sim_value)])"
      ],
      "metadata": {
        "colab": {
          "base_uri": "https://localhost:8080/",
          "height": 85
        },
        "id": "M_uT_HijeDA4",
        "outputId": "5d92c174-0050-45a8-98b7-8e474c212963"
      },
      "execution_count": 16,
      "outputs": [
        {
          "output_type": "stream",
          "name": "stdout",
          "text": [
            "O texto fornecido não contém informações sobre como os dinossauros desapareceram.\n",
            "\n",
            "Com base em:\n",
            "  https://pt.wikipedia.org/wiki/Therapsida\n"
          ]
        }
      ]
    },
    {
      "cell_type": "markdown",
      "source": [
        "#### Similaridade com Embedding Hipotética de Documento **(**HyDE**)**\n",
        "\n",
        "_Hypothetical Document Embeddings_ **(**HyDE**)** objetiva gerar resposta hipotética ao usuário usando conhecimento interno do Gemini para servir de base para cálculo da relevância dos demais resultados."
      ],
      "metadata": {
        "id": "Rg0sWTgc0_cE"
      }
    },
    {
      "cell_type": "code",
      "source": [
        "hyde_model = genai.GenerativeModel('gemini-pro')\n",
        "res =  hyde_model.generate_content(f'''\n",
        "Gere resposta hipotética para a busca do usuário usando seu próprio conhecimento.\n",
        "Assuma que você sabe tudo sobre o tópico. Não use informação factual,\n",
        "use substituições para completar sua resposta.\n",
        "\n",
        "query: {query}\n",
        "                                    ''')\n",
        "to_markdown(res.text)"
      ],
      "metadata": {
        "colab": {
          "base_uri": "https://localhost:8080/",
          "height": 307
        },
        "id": "FOfIhlvo0_zm",
        "outputId": "95096688-f588-4932-a4c3-b2b74ccc3291"
      },
      "execution_count": 17,
      "outputs": [
        {
          "output_type": "execute_result",
          "data": {
            "text/plain": [
              "<IPython.core.display.Markdown object>"
            ],
            "text/markdown": "> No crepúsculo de uma era primitiva, quando titãs vagavam pela Terra, um cataclismo cósmico desencadeou um destino trágico para os reis que antes dominavam o planeta. Um objeto celestial colossal, um mensageiro do destino, rasgou os céus, deixando um rastro de destruição em seu caminho.\n> \n> O impacto colossal desencadeou uma onda de choque devastadora que se propagou por todo o globo, reduzindo florestas a cinzas e lançando rochas no ar como confete. Nuvens de poeira e cinzas obscureceram o sol, mergulhando o mundo em uma escuridão eterna.\n> \n> À medida que a poeira assentava, uma onda de calor escaldante varreu a Terra, queimando a vegetação restante e sufocando qualquer chance de sobrevivência. A atmosfera tornara-se um inferno tóxico, impróprio para os répteis gigantescos que antes prosperavam.\n> \n> Um por um, os dinossauros sucumbiram ao cataclisma implacável. Alguns foram consumidos pelas chamas, enquanto outros pereceram por inanição ou pela falta de ar respirável. Apenas alguns poucos sobreviventes, adaptados a nichos especializados, conseguiram escapar do destino de seus gigantescos ancestrais.\n> \n> E assim, o reinado dos dinossauros chegou ao fim, marcando o início de uma nova era, onde mamíferos e aves assumiram o manto do domínio."
          },
          "metadata": {},
          "execution_count": 17
        }
      ]
    },
    {
      "cell_type": "code",
      "source": [
        "# Embedding a resposta hipotética para comparar com os resultados da busca:\n",
        "hyde_res  = get_embeddings([res.text])\n",
        "# Calculando Pontuação de Similaridade para Ranquear os Resultados:\n",
        "sim_value = dot_product(search_res, hyde_res)\n",
        "# Verificando Valores:\n",
        "sim_value"
      ],
      "metadata": {
        "colab": {
          "base_uri": "https://localhost:8080/",
          "height": 187
        },
        "id": "SsOXSIYw3gGL",
        "outputId": "91bf2b5a-4926-49db-80c2-3fe920a918e6"
      },
      "execution_count": 18,
      "outputs": [
        {
          "output_type": "execute_result",
          "data": {
            "text/plain": [
              "array([[0.75811477],\n",
              "       [0.80441426],\n",
              "       [0.74443895],\n",
              "       [0.81285525],\n",
              "       [0.80384239],\n",
              "       [0.7952765 ],\n",
              "       [0.84048431],\n",
              "       [0.83033978],\n",
              "       [0.78153983],\n",
              "       [0.73533617]])"
            ]
          },
          "metadata": {},
          "execution_count": 18
        }
      ]
    },
    {
      "cell_type": "code",
      "source": [
        "# # Seleção do Melhor Candidato - np.argmax:\n",
        "to_markdown(summaries[np.argmax(sim_value)])"
      ],
      "metadata": {
        "colab": {
          "base_uri": "https://localhost:8080/",
          "height": 278
        },
        "id": "YXB80BqR3-YF",
        "outputId": "7e5b4a7d-aa6d-407a-c0ab-3cce34e928a9"
      },
      "execution_count": 19,
      "outputs": [
        {
          "output_type": "execute_result",
          "data": {
            "text/plain": [
              "<IPython.core.display.Markdown object>"
            ],
            "text/markdown": "> O impacto da extinção dos dinossauros na Terra foi significativo e de longo alcance:\n> \n> * **Criação de Oportunidades:** A extinção dos dinossauros não aviários abriu um nicho ecológico para outros organismos, permitindo a evolução de mamíferos, aves e outros grupos.\n> * **Recuperação Lenta:** Demorou milhões de anos para o ecossistema se recuperar da perda de vida, com plantas e animais desenvolvendo novas adaptações para preencher os nichos deixados pelos dinossauros.\n> * **Evolução dos Mamíferos:** Os mamíferos, anteriormente relegados a papéis menores, puderam evoluir para novas formas e ocupar habitats diversos, eventualmente dando origem aos humanos.\n> * **Formação de Florestas:** A extinção de dinossauros herbívoros gigantes levou a um aumento na vegetação, incluindo florestas, que se espalharam por vastas áreas da Terra.\n> * **Mudanças Climáticas:** A perda de dinossauros e outros grandes répteis levou a mudanças significativas no clima, pois esses animais desempenharam um papel na regulação dos níveis de dióxido de carbono na atmosfera.\n> \n> Com base em:\n>   https://pt.wikipedia.org/wiki/Hist%C3%B3ria_da_Terra"
          },
          "metadata": {},
          "execution_count": 19
        }
      ]
    },
    {
      "cell_type": "code",
      "source": [
        "# Doações à WikipédiA:\n",
        "wikipedia.donate()"
      ],
      "metadata": {
        "id": "pdwdOD0SGNlM"
      },
      "execution_count": 20,
      "outputs": []
    }
  ]
}